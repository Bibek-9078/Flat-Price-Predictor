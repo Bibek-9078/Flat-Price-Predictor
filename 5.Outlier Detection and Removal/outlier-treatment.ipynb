{
 "cells": [
  {
   "cell_type": "code",
   "execution_count": null,
   "id": "bb80ec7c",
   "metadata": {},
   "outputs": [],
   "source": [
    "import numpy as np\n",
    "import pandas as pd\n",
    "import matplotlib.pyplot as plt\n",
    "import seaborn as sns\n",
    "import warnings\n",
    "warnings.filterwarnings('ignore')"
   ]
  },
  {
   "cell_type": "code",
   "execution_count": null,
   "id": "c5b149a5",
   "metadata": {},
   "outputs": [],
   "source": [
    "pd.set_option('display.max_columns', None)"
   ]
  },
  {
   "cell_type": "code",
   "execution_count": null,
   "id": "2988160c",
   "metadata": {},
   "outputs": [],
   "source": [
    "df = pd.read_csv('gurgaon_properties_cleaned_v2.csv').drop_duplicates()"
   ]
  },
  {
   "cell_type": "code",
   "execution_count": null,
   "id": "966593db",
   "metadata": {},
   "outputs": [],
   "source": [
    "df.head()"
   ]
  },
  {
   "cell_type": "code",
   "execution_count": null,
   "id": "33c87836",
   "metadata": {},
   "outputs": [],
   "source": [
    "df.shape"
   ]
  },
  {
   "cell_type": "code",
   "execution_count": null,
   "id": "7c962d63",
   "metadata": {},
   "outputs": [],
   "source": [
    "df.columns"
   ]
  },
  {
   "cell_type": "code",
   "execution_count": null,
   "id": "3519ff48",
   "metadata": {},
   "outputs": [],
   "source": [
    "# outliers on the basis of price column\n",
    "sns.distplot(df['price'])"
   ]
  },
  {
   "cell_type": "code",
   "execution_count": null,
   "id": "cab1048f",
   "metadata": {},
   "outputs": [],
   "source": [
    "sns.boxplot(x=df['price'])"
   ]
  },
  {
   "cell_type": "code",
   "execution_count": null,
   "id": "75fd0975",
   "metadata": {},
   "outputs": [],
   "source": [
    "# Calculate the IQR for the 'price' column\n",
    "Q1 = df['price'].quantile(0.25)\n",
    "Q3 = df['price'].quantile(0.75)\n",
    "IQR = Q3 - Q1\n",
    "\n",
    "# Define bounds for outliers\n",
    "lower_bound = Q1 - 1.5 * IQR\n",
    "upper_bound = Q3 + 1.5 * IQR\n",
    "\n",
    "# Identify outliers\n",
    "outliers = df[(df['price'] < lower_bound) | (df['price'] > upper_bound)]\n",
    "\n",
    "# Displaying the number of outliers and some statistics\n",
    "num_outliers = outliers.shape[0]\n",
    "outliers_price_stats = outliers['price'].describe()\n",
    "\n",
    "num_outliers, outliers_price_stats"
   ]
  },
  {
   "cell_type": "code",
   "execution_count": null,
   "id": "d66fe7e5",
   "metadata": {},
   "outputs": [],
   "source": [
    "outliers.sort_values('price',ascending=False).head(20)"
   ]
  },
  {
   "cell_type": "code",
   "execution_count": null,
   "id": "cbe15399",
   "metadata": {},
   "outputs": [],
   "source": [
    "# on the basis of price col we can say that there are some genuine outliers but there are some data erros as well"
   ]
  },
  {
   "cell_type": "markdown",
   "id": "c1acb333",
   "metadata": {},
   "source": [
    "### Price_per_sqft"
   ]
  },
  {
   "cell_type": "code",
   "execution_count": null,
   "id": "9167118e",
   "metadata": {},
   "outputs": [],
   "source": [
    "sns.distplot(df['price_per_sqft'])"
   ]
  },
  {
   "cell_type": "code",
   "execution_count": null,
   "id": "84ac753c",
   "metadata": {},
   "outputs": [],
   "source": [
    "sns.boxplot(x=df['price_per_sqft'])"
   ]
  },
  {
   "cell_type": "code",
   "execution_count": null,
   "id": "c9058596",
   "metadata": {},
   "outputs": [],
   "source": [
    "# Calculate the IQR for the 'price' column\n",
    "Q1 = df['price_per_sqft'].quantile(0.25)\n",
    "Q3 = df['price_per_sqft'].quantile(0.75)\n",
    "IQR = Q3 - Q1\n",
    "\n",
    "# Define bounds for outliers\n",
    "lower_bound = Q1 - 1.5 * IQR\n",
    "upper_bound = Q3 + 1.5 * IQR\n",
    "\n",
    "# Identify outliers\n",
    "outliers_sqft = df[(df['price_per_sqft'] < lower_bound) | (df['price_per_sqft'] > upper_bound)]\n",
    "\n",
    "# Displaying the number of outliers and some statistics\n",
    "num_outliers = outliers_sqft.shape[0]\n",
    "outliers_sqft_stats = outliers_sqft['price_per_sqft'].describe()\n",
    "\n",
    "num_outliers, outliers_sqft_stats"
   ]
  },
  {
   "cell_type": "code",
   "execution_count": null,
   "id": "668d093b",
   "metadata": {},
   "outputs": [],
   "source": [
    "outliers_sqft['area'] = outliers_sqft['area'].apply(lambda x:x*9 if x<1000 else x)"
   ]
  },
  {
   "cell_type": "code",
   "execution_count": null,
   "id": "732717f3",
   "metadata": {},
   "outputs": [],
   "source": [
    "outliers_sqft['price_per_sqft'] = round((outliers_sqft['price']*10000000)/outliers_sqft['area'])"
   ]
  },
  {
   "cell_type": "code",
   "execution_count": null,
   "id": "3cc18e5d",
   "metadata": {},
   "outputs": [],
   "source": [
    "outliers_sqft['price_per_sqft'].describe()"
   ]
  },
  {
   "cell_type": "code",
   "execution_count": null,
   "id": "93e6a458",
   "metadata": {},
   "outputs": [],
   "source": [
    "df.update(outliers_sqft)"
   ]
  },
  {
   "cell_type": "code",
   "execution_count": null,
   "id": "138866a3",
   "metadata": {},
   "outputs": [],
   "source": [
    "sns.distplot(df['price_per_sqft'])"
   ]
  },
  {
   "cell_type": "code",
   "execution_count": null,
   "id": "50b71b61",
   "metadata": {},
   "outputs": [],
   "source": [
    "sns.boxplot(x=df['price_per_sqft'])"
   ]
  },
  {
   "cell_type": "code",
   "execution_count": null,
   "id": "a1729f57",
   "metadata": {},
   "outputs": [],
   "source": [
    "df[df['price_per_sqft']>50000]"
   ]
  },
  {
   "cell_type": "code",
   "execution_count": null,
   "id": "cb8fc890",
   "metadata": {},
   "outputs": [],
   "source": [
    "df = df[df['price_per_sqft'] <= 50000]"
   ]
  },
  {
   "cell_type": "code",
   "execution_count": null,
   "id": "578c4ddd",
   "metadata": {},
   "outputs": [],
   "source": [
    "sns.boxplot(x=df['price_per_sqft'])"
   ]
  },
  {
   "cell_type": "markdown",
   "id": "d7ada3bf",
   "metadata": {},
   "source": [
    "### Area"
   ]
  },
  {
   "cell_type": "code",
   "execution_count": null,
   "id": "6f60a8d6",
   "metadata": {},
   "outputs": [],
   "source": [
    "sns.distplot(df['area'])"
   ]
  },
  {
   "cell_type": "code",
   "execution_count": null,
   "id": "f8495a0f",
   "metadata": {},
   "outputs": [],
   "source": [
    "sns.boxplot(x=df['area'])"
   ]
  },
  {
   "cell_type": "code",
   "execution_count": null,
   "id": "a14cb24d",
   "metadata": {},
   "outputs": [],
   "source": [
    "df['area'].describe()"
   ]
  },
  {
   "cell_type": "code",
   "execution_count": null,
   "id": "38b290d2",
   "metadata": {},
   "outputs": [],
   "source": [
    "df[df['area'] > 100000]"
   ]
  },
  {
   "cell_type": "code",
   "execution_count": null,
   "id": "846b8150",
   "metadata": {},
   "outputs": [],
   "source": [
    "df = df[df['area'] < 100000]"
   ]
  },
  {
   "cell_type": "code",
   "execution_count": null,
   "id": "bf7b6abb",
   "metadata": {},
   "outputs": [],
   "source": [
    "sns.distplot(df['area'])"
   ]
  },
  {
   "cell_type": "code",
   "execution_count": null,
   "id": "ddb83055",
   "metadata": {},
   "outputs": [],
   "source": [
    "sns.boxplot(x=df['area'])"
   ]
  },
  {
   "cell_type": "code",
   "execution_count": null,
   "id": "b1ba734c",
   "metadata": {},
   "outputs": [],
   "source": [
    "df[df['area'] > 10000].sort_values('area',ascending=False)\n",
    "\n",
    "# 818, 1796, 1123, 2, 2356, 115, 3649, 2503, 1471"
   ]
  },
  {
   "cell_type": "code",
   "execution_count": null,
   "id": "3c05d03e",
   "metadata": {},
   "outputs": [],
   "source": [
    "df.drop(index=[818, 1796, 1123, 2, 2356, 115, 3649, 2503, 1471], inplace=True)"
   ]
  },
  {
   "cell_type": "code",
   "execution_count": null,
   "id": "d522b663",
   "metadata": {},
   "outputs": [],
   "source": [
    "df[df['area'] > 10000].sort_values('area',ascending=False)"
   ]
  },
  {
   "cell_type": "code",
   "execution_count": null,
   "id": "6c1878d7",
   "metadata": {},
   "outputs": [],
   "source": [
    "df.loc[48,'area'] = 115*9\n",
    "df.loc[300,'area'] = 7250\n",
    "df.loc[2666,'area'] = 5800\n",
    "df.loc[1358,'area'] = 2660\n",
    "df.loc[3195,'area'] = 2850\n",
    "df.loc[2131,'area'] = 1812\n",
    "df.loc[3088,'area'] = 2160\n",
    "df.loc[3444,'area'] = 1175"
   ]
  },
  {
   "cell_type": "code",
   "execution_count": null,
   "id": "92e3c0f5",
   "metadata": {},
   "outputs": [],
   "source": [
    "sns.distplot(df['area'])"
   ]
  },
  {
   "cell_type": "code",
   "execution_count": null,
   "id": "28600c9d",
   "metadata": {},
   "outputs": [],
   "source": [
    "sns.boxplot(x=df['area'])"
   ]
  },
  {
   "cell_type": "code",
   "execution_count": null,
   "id": "ed8c4357",
   "metadata": {},
   "outputs": [],
   "source": [
    "df['area'].describe()"
   ]
  },
  {
   "cell_type": "markdown",
   "id": "cf6575e8",
   "metadata": {},
   "source": [
    "### Bedroom"
   ]
  },
  {
   "cell_type": "code",
   "execution_count": null,
   "id": "87e717d7",
   "metadata": {},
   "outputs": [],
   "source": [
    "sns.distplot(df['bedRoom'])"
   ]
  },
  {
   "cell_type": "code",
   "execution_count": null,
   "id": "c5edebd9",
   "metadata": {},
   "outputs": [],
   "source": [
    "sns.boxplot(x=df['bedRoom'])"
   ]
  },
  {
   "cell_type": "code",
   "execution_count": null,
   "id": "a278ec8f",
   "metadata": {},
   "outputs": [],
   "source": [
    "df['bedRoom'].describe()"
   ]
  },
  {
   "cell_type": "code",
   "execution_count": null,
   "id": "ea171210",
   "metadata": {},
   "outputs": [],
   "source": [
    "df[df['bedRoom'] > 10].sort_values('bedRoom',ascending=False)"
   ]
  },
  {
   "cell_type": "code",
   "execution_count": null,
   "id": "22d643df",
   "metadata": {},
   "outputs": [],
   "source": [
    "df = df[df['bedRoom'] <= 10]"
   ]
  },
  {
   "cell_type": "code",
   "execution_count": null,
   "id": "c4c2ec66",
   "metadata": {},
   "outputs": [],
   "source": [
    "df.shape"
   ]
  },
  {
   "cell_type": "code",
   "execution_count": null,
   "id": "7520137c",
   "metadata": {},
   "outputs": [],
   "source": [
    "sns.distplot(df['bedRoom'])"
   ]
  },
  {
   "cell_type": "code",
   "execution_count": null,
   "id": "234fac52",
   "metadata": {},
   "outputs": [],
   "source": [
    "sns.boxplot(x=df['bedRoom'])"
   ]
  },
  {
   "cell_type": "code",
   "execution_count": null,
   "id": "6e687ce3",
   "metadata": {},
   "outputs": [],
   "source": [
    "df['bedRoom'].describe()"
   ]
  },
  {
   "cell_type": "markdown",
   "id": "a884bd68",
   "metadata": {},
   "source": [
    "### Bathroom"
   ]
  },
  {
   "cell_type": "code",
   "execution_count": null,
   "id": "34883ecc",
   "metadata": {},
   "outputs": [],
   "source": [
    "sns.distplot(df['bathroom'])"
   ]
  },
  {
   "cell_type": "code",
   "execution_count": null,
   "id": "44b1648e",
   "metadata": {},
   "outputs": [],
   "source": [
    "sns.boxplot(x=df['bathroom'])"
   ]
  },
  {
   "cell_type": "code",
   "execution_count": null,
   "id": "b8c4cca0",
   "metadata": {},
   "outputs": [],
   "source": [
    "df[df['bathroom'] > 10].sort_values('bathroom',ascending=False)"
   ]
  },
  {
   "cell_type": "code",
   "execution_count": null,
   "id": "29dacd30",
   "metadata": {},
   "outputs": [],
   "source": [
    "df.head()"
   ]
  },
  {
   "cell_type": "markdown",
   "id": "3bdca50b",
   "metadata": {},
   "source": [
    "### super built up area"
   ]
  },
  {
   "cell_type": "code",
   "execution_count": null,
   "id": "28989343",
   "metadata": {},
   "outputs": [],
   "source": [
    "sns.distplot(df['super_built_up_area'])"
   ]
  },
  {
   "cell_type": "code",
   "execution_count": null,
   "id": "52a7a4b2",
   "metadata": {},
   "outputs": [],
   "source": [
    "sns.boxplot(x=df['super_built_up_area'])"
   ]
  },
  {
   "cell_type": "code",
   "execution_count": null,
   "id": "37f884dd",
   "metadata": {},
   "outputs": [],
   "source": [
    "df['super_built_up_area'].describe()"
   ]
  },
  {
   "cell_type": "code",
   "execution_count": null,
   "id": "a45fcee5",
   "metadata": {},
   "outputs": [],
   "source": [
    "df[df['super_built_up_area'] > 6000]"
   ]
  },
  {
   "cell_type": "markdown",
   "id": "b05a4bce",
   "metadata": {},
   "source": [
    "### built up area"
   ]
  },
  {
   "cell_type": "code",
   "execution_count": null,
   "id": "4873a02f",
   "metadata": {},
   "outputs": [],
   "source": [
    "sns.distplot(df['built_up_area'])"
   ]
  },
  {
   "cell_type": "code",
   "execution_count": null,
   "id": "bbb28d31",
   "metadata": {},
   "outputs": [],
   "source": [
    "sns.boxplot(x=df['built_up_area'])"
   ]
  },
  {
   "cell_type": "code",
   "execution_count": null,
   "id": "1e022b5f",
   "metadata": {},
   "outputs": [],
   "source": [
    "df[df['built_up_area'] > 10000]"
   ]
  },
  {
   "cell_type": "markdown",
   "id": "ebe0a386",
   "metadata": {},
   "source": [
    "### carpet area"
   ]
  },
  {
   "cell_type": "code",
   "execution_count": null,
   "id": "e35cd4fc",
   "metadata": {},
   "outputs": [],
   "source": [
    "sns.distplot(df['carpet_area'])"
   ]
  },
  {
   "cell_type": "code",
   "execution_count": null,
   "id": "4ccacf81",
   "metadata": {},
   "outputs": [],
   "source": [
    "sns.boxplot(x=df['carpet_area'])"
   ]
  },
  {
   "cell_type": "code",
   "execution_count": null,
   "id": "0b4569cd",
   "metadata": {},
   "outputs": [],
   "source": [
    "df[df['carpet_area'] > 10000]"
   ]
  },
  {
   "cell_type": "code",
   "execution_count": null,
   "id": "12d95c6c",
   "metadata": {},
   "outputs": [],
   "source": [
    "df.loc[2131,'carpet_area'] = 1812"
   ]
  },
  {
   "cell_type": "code",
   "execution_count": null,
   "id": "b22b1e2a",
   "metadata": {},
   "outputs": [],
   "source": [
    "df[df['carpet_area'] > 10000]"
   ]
  },
  {
   "cell_type": "code",
   "execution_count": null,
   "id": "ee79b41d",
   "metadata": {},
   "outputs": [],
   "source": [
    "df.head()"
   ]
  },
  {
   "cell_type": "code",
   "execution_count": null,
   "id": "71134d59",
   "metadata": {},
   "outputs": [],
   "source": [
    "sns.distplot(df['luxury_score'])"
   ]
  },
  {
   "cell_type": "code",
   "execution_count": null,
   "id": "152b568e",
   "metadata": {},
   "outputs": [],
   "source": [
    "sns.boxplot(df['luxury_score'])"
   ]
  },
  {
   "cell_type": "code",
   "execution_count": null,
   "id": "2cd54fc0",
   "metadata": {},
   "outputs": [],
   "source": [
    "df.shape"
   ]
  },
  {
   "cell_type": "code",
   "execution_count": null,
   "id": "de67d03f",
   "metadata": {},
   "outputs": [],
   "source": [
    "df['price_per_sqft'] = round((df['price']*10000000)/df['area'])"
   ]
  },
  {
   "cell_type": "code",
   "execution_count": null,
   "id": "cb765c6a",
   "metadata": {},
   "outputs": [],
   "source": [
    "df.head()"
   ]
  },
  {
   "cell_type": "code",
   "execution_count": null,
   "id": "e759c526",
   "metadata": {},
   "outputs": [],
   "source": [
    "sns.distplot(df['price_per_sqft'])"
   ]
  },
  {
   "cell_type": "code",
   "execution_count": null,
   "id": "3e450384",
   "metadata": {},
   "outputs": [],
   "source": [
    "sns.boxplot(df['price_per_sqft'])"
   ]
  },
  {
   "cell_type": "code",
   "execution_count": null,
   "id": "1c0ba675",
   "metadata": {},
   "outputs": [],
   "source": [
    "df[df['price_per_sqft'] > 42000]"
   ]
  },
  {
   "cell_type": "code",
   "execution_count": null,
   "id": "3f700218",
   "metadata": {},
   "outputs": [],
   "source": [
    "x = df[df['price_per_sqft'] <= 20000]\n",
    "(x['area']/x['bedRoom']).quantile(0.02)"
   ]
  },
  {
   "cell_type": "code",
   "execution_count": null,
   "id": "adbd004b",
   "metadata": {},
   "outputs": [],
   "source": [
    "df[(df['area']/df['bedRoom'])<183]"
   ]
  },
  {
   "cell_type": "code",
   "execution_count": null,
   "id": "0eff0377",
   "metadata": {},
   "outputs": [],
   "source": []
  }
 ],
 "metadata": {
  "kernelspec": {
   "display_name": "Python 3 (ipykernel)",
   "language": "python",
   "name": "python3"
  },
  "language_info": {
   "codemirror_mode": {
    "name": "ipython",
    "version": 3
   },
   "file_extension": ".py",
   "mimetype": "text/x-python",
   "name": "python",
   "nbconvert_exporter": "python",
   "pygments_lexer": "ipython3",
   "version": "3.9.13"
  }
 },
 "nbformat": 4,
 "nbformat_minor": 5
}
